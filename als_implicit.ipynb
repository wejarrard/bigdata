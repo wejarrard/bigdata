{
 "cells": [
  {
   "cell_type": "markdown",
   "metadata": {},
   "source": [
    "# Project Update\n",
    "#### Will Jarrard (wej5ar) Abhi Dommalapati (ad4bu), Sebastian Ranasinghe (sar2jf)"
   ]
  },
  {
   "cell_type": "markdown",
   "metadata": {},
   "source": [
    "## Setup Environment and clean data"
   ]
  },
  {
   "cell_type": "code",
   "execution_count": 1,
   "metadata": {},
   "outputs": [],
   "source": [
    "import numpy as np\n",
    "import pandas as pd\n",
    "import pyspark\n",
    "from pyspark.sql import SparkSession\n",
    "\n",
    "# Build spark session\n",
    "spark = SparkSession.builder \\\n",
    "    .master('local[*]') \\\n",
    "    .config(\"spark.driver.memory\", \"150g\") \\\n",
    "    .appName('my-cool-app') \\\n",
    "    .getOrCreate()\n",
    "\n",
    "spark.catalog.clearCache()"
   ]
  },
  {
   "cell_type": "markdown",
   "metadata": {},
   "source": [
    "### Read in Data"
   ]
  },
  {
   "cell_type": "code",
   "execution_count": 2,
   "metadata": {},
   "outputs": [
    {
     "name": "stdout",
     "output_type": "stream",
     "text": [
      "root\n",
      " |-- t_dat: string (nullable = true)\n",
      " |-- customer_id: string (nullable = true)\n",
      " |-- article_id: integer (nullable = true)\n",
      " |-- price: double (nullable = true)\n",
      " |-- sales_channel_id: integer (nullable = true)\n",
      "\n"
     ]
    }
   ],
   "source": [
    "transactions_train = spark.read.csv('/project/ds5559/h_and_m/transactions_train.csv',  inferSchema=True, header = True)\n",
    "transactions_train.printSchema()"
   ]
  },
  {
   "cell_type": "markdown",
   "metadata": {},
   "source": [
    "## Clean Data"
   ]
  },
  {
   "cell_type": "markdown",
   "metadata": {},
   "source": [
    "#### Seperate out only 2020 because we get a memory error if we do more"
   ]
  },
  {
   "cell_type": "code",
   "execution_count": 3,
   "metadata": {},
   "outputs": [
    {
     "name": "stdout",
     "output_type": "stream",
     "text": [
      "+--------------------+----------+-----+\n",
      "|         customer_id|article_id|count|\n",
      "+--------------------+----------+-----+\n",
      "|00f5ce6142a289516...| 796210010|    2|\n",
      "|01da48c6794598377...| 621073001|    1|\n",
      "|0871a5a2f27641068...| 784727001|    1|\n",
      "|109defd99fce9bfa0...| 803986002|    1|\n",
      "|1596f86f7ae4b8977...| 654590002|    1|\n",
      "+--------------------+----------+-----+\n",
      "only showing top 5 rows\n",
      "\n"
     ]
    }
   ],
   "source": [
    "from pyspark.sql.functions import from_unixtime, unix_timestamp, year, month, col, date_format\n",
    "\n",
    "# Need to make it a string so we can turn it into unix timestamp\n",
    "transactions_train =  transactions_train.withColumn('t_dat', transactions_train['t_dat'].cast('string'))\n",
    "\n",
    "# Used https://stackoverflow.com/questions/53285032/how-do-i-convert-timestamp-to-unix-format-with-pyspark\n",
    "# and https://spark.apache.org/docs/latest/api/python/reference/api/pyspark.sql.functions.from_unixtime.html\n",
    "transactions_train = transactions_train.withColumn('date', from_unixtime(unix_timestamp('t_dat', 'yyyy-MM-dd')))\n",
    "\n",
    "# This is to get the date then year so that we only use the year 2020\n",
    "transactions_train = transactions_train.withColumn('year', year(col('date')))\n",
    "transactions_train = transactions_train[transactions_train['year'] == 2020]\n",
    "\n",
    "# Get count by transaction so we can use it for ALS modeling\n",
    "transactions_train = transactions_train.groupby('customer_id', 'article_id').count()\n",
    "transactions_train.show(5)"
   ]
  },
  {
   "cell_type": "markdown",
   "metadata": {},
   "source": [
    "#  Model"
   ]
  },
  {
   "cell_type": "markdown",
   "metadata": {},
   "source": [
    "### Need to fit string indexer to all data first"
   ]
  },
  {
   "cell_type": "code",
   "execution_count": 4,
   "metadata": {},
   "outputs": [],
   "source": [
    "from pyspark.ml.feature import StringIndexer\n",
    "cols = ['customer_id', 'article_id']\n",
    "indexer = StringIndexer(inputCols=cols, outputCols=[x + \"_index\" for x in cols]) \n",
    "transactions_train = indexer.fit(transactions_train).transform(transactions_train)\n",
    "(training,test) = transactions_train.randomSplit([0.8, 0.2])"
   ]
  },
  {
   "cell_type": "markdown",
   "metadata": {},
   "source": [
    "### Train Implicit Model \n",
    "[see difference between implicit and explicit here](https://spark.apache.org/docs/latest/ml-collaborative-filtering.html#explicit-vs-implicit-feedback)"
   ]
  },
  {
   "cell_type": "code",
   "execution_count": 5,
   "metadata": {},
   "outputs": [],
   "source": [
    "# Model\n",
    "from pyspark.ml.recommendation import ALS\n",
    "\n",
    "# See https://spark.apache.org/docs/latest/api/python/reference/api/pyspark.ml.recommendation.ALS.html\n",
    "# regparam which is 0.1\n",
    "als=ALS(userCol=\"customer_id_index\", \n",
    "        itemCol=\"article_id_index\", \n",
    "        ratingCol=\"count\",\n",
    "        coldStartStrategy=\"drop\", \n",
    "        nonnegative=True,\n",
    "        implicitPrefs=True\n",
    "       )\n",
    "\n",
    "model = als.fit(training)"
   ]
  },
  {
   "cell_type": "markdown",
   "metadata": {},
   "source": [
    "### Make predictions"
   ]
  },
  {
   "cell_type": "code",
   "execution_count": 6,
   "metadata": {},
   "outputs": [
    {
     "name": "stdout",
     "output_type": "stream",
     "text": [
      "+--------------------+----------+-----+-----------------+----------------+------------+\n",
      "|         customer_id|article_id|count|customer_id_index|article_id_index|  prediction|\n",
      "+--------------------+----------+-----+-----------------+----------------+------------+\n",
      "|69fbf08f0866cbc4a...| 817353008|    1|          15447.0|           148.0| 0.018701833|\n",
      "|ac982e99e61de5442...| 817353008|    1|          48510.0|           148.0| 0.037698228|\n",
      "|11e370068454ac91a...| 817353008|    1|         344726.0|           148.0| 0.013734466|\n",
      "|d170614cb34c05e11...| 817353008|    1|          48942.0|           148.0| 0.030476555|\n",
      "|23d9bd604e0c7d750...| 817353008|    2|           7066.0|           148.0| 0.043810364|\n",
      "|5c2eb4acf551af4ec...| 817353008|    1|         190874.0|           148.0|  0.01097815|\n",
      "|6e7605011fee0ea4a...| 817353008|    1|         192005.0|           148.0|0.0109603545|\n",
      "|a5ae79e492de1b85d...| 817353008|    1|          14874.0|           148.0|  0.06541093|\n",
      "|a6092d5bda31e7eb6...| 817353008|    1|          21077.0|           148.0|  0.02375747|\n",
      "|e0e7b29d35ee19817...| 817353008|    1|          76393.0|           148.0| 0.019088333|\n",
      "+--------------------+----------+-----+-----------------+----------------+------------+\n",
      "only showing top 10 rows\n",
      "\n"
     ]
    }
   ],
   "source": [
    "predictions=model.transform(test)\n",
    "predictions.show(10)"
   ]
  },
  {
   "cell_type": "markdown",
   "metadata": {},
   "source": [
    "### Evaluate using rmse"
   ]
  },
  {
   "cell_type": "code",
   "execution_count": 7,
   "metadata": {},
   "outputs": [
    {
     "name": "stdout",
     "output_type": "stream",
     "text": [
      "1.2453698424117083\n"
     ]
    }
   ],
   "source": [
    "from pyspark.ml.evaluation import RegressionEvaluator\n",
    "\n",
    "evaluator=RegressionEvaluator(metricName=\"rmse\",labelCol=\"count\",predictionCol=\"prediction\")\n",
    "rmse=evaluator.evaluate(predictions)\n",
    "print(rmse)"
   ]
  },
  {
   "cell_type": "markdown",
   "metadata": {},
   "source": [
    "### Make recommendations based off of items"
   ]
  },
  {
   "cell_type": "code",
   "execution_count": 8,
   "metadata": {},
   "outputs": [
    {
     "name": "stdout",
     "output_type": "stream",
     "text": [
      "+----------------+--------------------+\n",
      "|article_id_index|     recommendations|\n",
      "+----------------+--------------------+\n",
      "|             148|[{168, 0.25538644...|\n",
      "|             463|[{239446, 0.23014...|\n",
      "|             471|[{297, 0.10508741...|\n",
      "|             496|[{7231, 0.0722737...|\n",
      "|             833|[{168, 0.06621577...|\n",
      "+----------------+--------------------+\n",
      "only showing top 5 rows\n",
      "\n"
     ]
    }
   ],
   "source": [
    "item_recs = model.recommendForAllItems(10)\n",
    "item_recs.show(5)"
   ]
  },
  {
   "cell_type": "markdown",
   "metadata": {},
   "source": [
    "### Make recommendations based off of users"
   ]
  },
  {
   "cell_type": "code",
   "execution_count": 9,
   "metadata": {},
   "outputs": [
    {
     "name": "stdout",
     "output_type": "stream",
     "text": [
      "+-----------------+-----------------------------------------------------------------------------------------------------------------------------------------------------------------------------------------------------------------------+\n",
      "|customer_id_index|recommendations                                                                                                                                                                                                        |\n",
      "+-----------------+-----------------------------------------------------------------------------------------------------------------------------------------------------------------------------------------------------------------------+\n",
      "|148              |[{20, 0.20783934}, {25, 0.19548015}, {18, 0.185775}, {30, 0.1771148}, {3, 0.1765406}, {31, 0.15613519}, {11, 0.15046923}, {70, 0.1366841}, {14, 0.13656622}, {7, 0.1363846}, {74, 0.12996837}, {110, 0.12833914}]      |\n",
      "|463              |[{20, 0.45331547}, {25, 0.4249837}, {30, 0.38569254}, {0, 0.38354725}, {31, 0.34499952}, {3, 0.31044805}, {70, 0.29809153}, {74, 0.29029906}, {110, 0.2807245}, {153, 0.25452048}, {9, 0.253516}, {21, 0.2390678}]     |\n",
      "|471              |[{18, 0.22611466}, {11, 0.16057332}, {6, 0.14926918}, {80, 0.14348947}, {20, 0.14214066}, {9, 0.13853937}, {126, 0.1338368}, {25, 0.13369009}, {13, 0.12772131}, {230, 0.12664488}, {3, 0.12631235}, {273, 0.12403914}]|\n",
      "|496              |[{6, 0.24537422}, {13, 0.20445238}, {15, 0.19607747}, {22, 0.1746138}, {23, 0.16111442}, {20, 0.13724975}, {25, 0.12884852}, {30, 0.11685487}, {108, 0.11000285}, {43, 0.10390364}, {31, 0.10359041}, {94, 0.10204392}]|\n",
      "|833              |[{20, 0.33120868}, {6, 0.32382718}, {25, 0.31086385}, {3, 0.28238514}, {30, 0.2819607}, {13, 0.27388418}, {15, 0.25873303}, {31, 0.25266472}, {22, 0.23041077}, {7, 0.22801676}, {70, 0.21780385}, {23, 0.21511644}]   |\n",
      "+-----------------+-----------------------------------------------------------------------------------------------------------------------------------------------------------------------------------------------------------------------+\n",
      "only showing top 5 rows\n",
      "\n"
     ]
    }
   ],
   "source": [
    "user_recs = model.recommendForAllUsers(12)\n",
    "user_recs.show(5, False)"
   ]
  },
  {
   "cell_type": "markdown",
   "metadata": {},
   "source": [
    "### Reformat to Calculate Mean Average Precision "
   ]
  },
  {
   "cell_type": "code",
   "execution_count": 12,
   "metadata": {},
   "outputs": [
    {
     "name": "stdout",
     "output_type": "stream",
     "text": [
      "+--------------------+----------+-----+-----------------+----------------+\n",
      "|         customer_id|article_id|count|customer_id_index|article_id_index|\n",
      "+--------------------+----------+-----+-----------------+----------------+\n",
      "|00f5ce6142a289516...| 796210010|    2|          67509.0|           175.0|\n",
      "|01da48c6794598377...| 621073001|    1|         284500.0|          4769.0|\n",
      "|0871a5a2f27641068...| 784727001|    1|         343407.0|         11369.0|\n",
      "|109defd99fce9bfa0...| 803986002|    1|         671375.0|          1945.0|\n",
      "|1596f86f7ae4b8977...| 654590002|    1|          26536.0|         12448.0|\n",
      "+--------------------+----------+-----+-----------------+----------------+\n",
      "only showing top 5 rows\n",
      "\n"
     ]
    }
   ],
   "source": [
    "transactions_train.show(5)"
   ]
  },
  {
   "cell_type": "code",
   "execution_count": 13,
   "metadata": {},
   "outputs": [],
   "source": [
    "import pyspark.sql.functions as f\n",
    "\n",
    "grouped_trans = transactions_train.groupBy(\"customer_id\").agg(\n",
    "    f.first(\"customer_id_index\").alias(\"customer_id_index\"), \n",
    "    f.concat_ws(\",\", f.collect_list(\"article_id_index\")).alias(\"labels\"))"
   ]
  },
  {
   "cell_type": "code",
   "execution_count": 14,
   "metadata": {},
   "outputs": [],
   "source": [
    "joined = grouped_trans.join(user_recs, grouped_trans.customer_id_index == user_recs.customer_id_index).drop(grouped_trans.customer_id_index)"
   ]
  },
  {
   "cell_type": "code",
   "execution_count": 15,
   "metadata": {},
   "outputs": [
    {
     "name": "stdout",
     "output_type": "stream",
     "text": [
      "root\n",
      " |-- customer_id: string (nullable = true)\n",
      " |-- labels: string (nullable = false)\n",
      " |-- customer_id_index: integer (nullable = false)\n",
      " |-- recommendations: array (nullable = true)\n",
      " |    |-- element: struct (containsNull = true)\n",
      " |    |    |-- article_id_index: integer (nullable = true)\n",
      " |    |    |-- rating: float (nullable = true)\n",
      "\n"
     ]
    }
   ],
   "source": [
    "joined.printSchema()"
   ]
  },
  {
   "cell_type": "code",
   "execution_count": 16,
   "metadata": {},
   "outputs": [
    {
     "name": "stdout",
     "output_type": "stream",
     "text": [
      "+--------------------+--------------------+-----------------+--------------------+\n",
      "|         customer_id|              labels|customer_id_index|     recommendations|\n",
      "+--------------------+--------------------+-----------------+--------------------+\n",
      "|27a246bb259207e7b...|5103.0,153.0,2730...|              299|[{20, 0.6097708},...|\n",
      "+--------------------+--------------------+-----------------+--------------------+\n",
      "only showing top 1 row\n",
      "\n"
     ]
    }
   ],
   "source": [
    "joined.show(1)"
   ]
  },
  {
   "cell_type": "code",
   "execution_count": 17,
   "metadata": {},
   "outputs": [],
   "source": [
    "pred_labels = joined.select(\"recommendations.article_id_index\", \"labels\").rdd\n",
    "pred_labels = pred_labels.map(lambda x: (x[0], [int(float(s)) for s in x[1].split(\",\")]))"
   ]
  },
  {
   "cell_type": "code",
   "execution_count": 18,
   "metadata": {},
   "outputs": [],
   "source": [
    "from pyspark.mllib.evaluation import RankingMetrics\n",
    "metrics = RankingMetrics(pred_labels)"
   ]
  },
  {
   "cell_type": "code",
   "execution_count": 19,
   "metadata": {},
   "outputs": [
    {
     "data": {
      "text/plain": [
       "0.022193131397492634"
      ]
     },
     "execution_count": 19,
     "metadata": {},
     "output_type": "execute_result"
    }
   ],
   "source": [
    "metrics.meanAveragePrecision"
   ]
  }
 ],
 "metadata": {
  "kernelspec": {
   "display_name": "DS 5110 Spark 3.1",
   "language": "python",
   "name": "ds5110_spark3.1"
  },
  "language_info": {
   "codemirror_mode": {
    "name": "ipython",
    "version": 3
   },
   "file_extension": ".py",
   "mimetype": "text/x-python",
   "name": "python",
   "nbconvert_exporter": "python",
   "pygments_lexer": "ipython3",
   "version": "3.7.10"
  }
 },
 "nbformat": 4,
 "nbformat_minor": 4
}
