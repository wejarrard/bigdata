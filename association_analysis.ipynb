{
 "cells": [
  {
   "cell_type": "markdown",
   "metadata": {},
   "source": [
    "#### Final Project: H&M Personalized Fashion Recommendations\n",
    "#### Market Basket Analysis (MBA) Preprocessing\n",
    "#### Will Jarrard (wej5ar) Abhi Dommalapati (ad4bu), Sebastian Ranasinghe (sar2jf)\n",
    "<br>"
   ]
  },
  {
   "cell_type": "code",
   "execution_count": 34,
   "metadata": {},
   "outputs": [
    {
     "name": "stdout",
     "output_type": "stream",
     "text": [
      "/project/ds5559/h_and_m\n"
     ]
    }
   ],
   "source": [
    "import os\n",
    "import pandas as pd\n",
    "import numpy as np\n",
    "import matplotlib.pyplot as plt\n",
    "import seaborn as sns\n",
    "%matplotlib inline\n",
    "%cd /project/ds5559/h_and_m/\n",
    "from pyspark.sql import SparkSession\n",
    "from pyspark.sql import Row\n",
    "from pyspark.sql.functions import collect_set, col, count, row_number, lit\n",
    "from pyspark.sql.window import Window\n",
    "from pyspark.ml.fpm import FPGrowth\n",
    "from pyspark.sql.functions import from_unixtime, unix_timestamp, year, month, col, date_format\n",
    "from pyspark.ml.feature import Bucketizer\n",
    "from pyspark.mllib.evaluation import RankingMetrics\n",
    "import random\n",
    "# spark = SparkSession.builder.getOrCreate()\n",
    "spark = SparkSession.builder \\\n",
    "    .master('local[*]') \\\n",
    "    .config(\"spark.driver.memory\", \"100g\") \\\n",
    "    .appName('my-cool-app') \\\n",
    "    .getOrCreate()"
   ]
  },
  {
   "cell_type": "markdown",
   "metadata": {},
   "source": [
    "#### Create Article Lookup Table"
   ]
  },
  {
   "cell_type": "code",
   "execution_count": 2,
   "metadata": {},
   "outputs": [],
   "source": [
    "articles = spark.read.csv('/project/ds5559/h_and_m/articles.csv',  inferSchema=True, header = True)"
   ]
  },
  {
   "cell_type": "code",
   "execution_count": 3,
   "metadata": {},
   "outputs": [],
   "source": [
    "# Create distinct pairings of product types, and index\n",
    "\n",
    "art_lookup = articles.select(col('product_type_name'), col('index_name')) \\\n",
    "                       .distinct() \\\n",
    "                       .sort(col('product_type_no'))\n",
    "\n",
    "\n",
    "# Create ID for unique product, index types\n",
    "\n",
    "w = Window().orderBy(lit('A'))\n",
    "art_lookup = art_lookup.withColumn(\"prod_index_id\", row_number().over(w))\n",
    "\n",
    "\n",
    "# Rejoin with articles, extract relevant columns\n",
    "\n",
    "art_lookup = articles.join(art_lookup, \n",
    "                           on = ['product_type_name', 'index_name'], \n",
    "                           how = 'inner')\n",
    "\n",
    "art_lookup = art_lookup.select(col('article_id'),\n",
    "                  col('product_type_name'), col('product_code'),\n",
    "                  col('product_type_no'), \n",
    "                  col('index_name'), \n",
    "                  col('prod_index_id')).sort(col('prod_index_id'))\n",
    "\n",
    "art_lookup_short = art_lookup.select(col('article_id'), \n",
    "                  col('prod_index_id')).sort(col('prod_index_id'))"
   ]
  },
  {
   "cell_type": "markdown",
   "metadata": {},
   "source": [
    "<br>"
   ]
  },
  {
   "cell_type": "markdown",
   "metadata": {},
   "source": [
    "#### Create demographic table"
   ]
  },
  {
   "cell_type": "code",
   "execution_count": 4,
   "metadata": {},
   "outputs": [
    {
     "name": "stdout",
     "output_type": "stream",
     "text": [
      "+--------------------+----+------+------------------+----------------------+---+--------------------+\n",
      "|         customer_id|  FN|Active|club_member_status|fashion_news_frequency|age|         postal_code|\n",
      "+--------------------+----+------+------------------+----------------------+---+--------------------+\n",
      "|00000dbacae5abe5e...|null|  null|            ACTIVE|                  NONE| 49|52043ee2162cf5aa7...|\n",
      "|0000423b00ade9141...|null|  null|            ACTIVE|                  NONE| 25|2973abc54daa8a5f8...|\n",
      "|000058a12d5b43e67...|null|  null|            ACTIVE|                  NONE| 24|64f17e6a330a85798...|\n",
      "|00005ca1c9ed5f514...|null|  null|            ACTIVE|                  NONE| 54|5d36574f52495e81f...|\n",
      "|00006413d8573cd20...| 1.0|   1.0|            ACTIVE|             Regularly| 52|25fa5ddee9aac01b3...|\n",
      "+--------------------+----+------+------------------+----------------------+---+--------------------+\n",
      "only showing top 5 rows\n",
      "\n"
     ]
    }
   ],
   "source": [
    "customers = spark.read.csv('/project/ds5559/h_and_m/customers.csv',  inferSchema=True, header = True)\n",
    "\n",
    "customers.show(5)"
   ]
  },
  {
   "cell_type": "code",
   "execution_count": 5,
   "metadata": {},
   "outputs": [],
   "source": [
    "# Add in age buckets\n",
    "\n",
    "bucketizer = Bucketizer(splits=[0, 18, 20, 25, 30, 40, 50, 120],inputCol=\"age\", outputCol=\"buckets\")\n",
    "customers = bucketizer.setHandleInvalid(\"keep\").transform(customers)"
   ]
  },
  {
   "cell_type": "code",
   "execution_count": 6,
   "metadata": {},
   "outputs": [
    {
     "name": "stdout",
     "output_type": "stream",
     "text": [
      "+--------------------+-------+\n",
      "|         customer_id|buckets|\n",
      "+--------------------+-------+\n",
      "|00000dbacae5abe5e...|    5.0|\n",
      "|0000423b00ade9141...|    3.0|\n",
      "|000058a12d5b43e67...|    2.0|\n",
      "|00005ca1c9ed5f514...|    6.0|\n",
      "|00006413d8573cd20...|    6.0|\n",
      "+--------------------+-------+\n",
      "only showing top 5 rows\n",
      "\n"
     ]
    }
   ],
   "source": [
    "dem_short = customers.select(col('customer_id'), col('buckets'))\n",
    "\n",
    "dem_short.show(5)"
   ]
  },
  {
   "cell_type": "markdown",
   "metadata": {},
   "source": [
    "<br>"
   ]
  },
  {
   "cell_type": "markdown",
   "metadata": {},
   "source": [
    "#### Find Top-n Items Per Demographic Group"
   ]
  },
  {
   "cell_type": "code",
   "execution_count": 7,
   "metadata": {},
   "outputs": [],
   "source": [
    "parquetFile = spark.read.parquet(\"trans2020_par\")\n",
    "parquetFile.createOrReplaceTempView(\"trans_2020\")"
   ]
  },
  {
   "cell_type": "code",
   "execution_count": 8,
   "metadata": {},
   "outputs": [],
   "source": [
    "trans_2020 = spark.sql(\"SELECT * FROM trans_2020\")\n",
    "\n",
    "trans_2020 = trans_2020.join(dem_short, on = 'customer_id', how = 'inner')\n",
    "trans_2020 = trans_2020.join(art_lookup_short, on = 'article_id', how = 'inner')"
   ]
  },
  {
   "cell_type": "code",
   "execution_count": 9,
   "metadata": {},
   "outputs": [
    {
     "name": "stdout",
     "output_type": "stream",
     "text": [
      "+----------+--------------------+----------+--------------------+----------------+-------------------+----+-------+-------------+\n",
      "|article_id|         customer_id|     t_dat|               price|sales_channel_id|               date|year|buckets|prod_index_id|\n",
      "+----------+--------------------+----------+--------------------+----------------+-------------------+----+-------+-------------+\n",
      "| 126589006|5d363f0446b54a831...|2020-06-27|0.001677966101694915|               1|2020-06-27 00:00:00|2020|    3.0|           66|\n",
      "| 126589006|2c012ed3ee6496bb9...|2020-02-01|0.001677966101694915|               1|2020-02-01 00:00:00|2020|    2.0|           66|\n",
      "| 126589006|e1a51bd06f36e5c70...|2020-02-15|0.001677966101694915|               1|2020-02-15 00:00:00|2020|    6.0|           66|\n",
      "| 126589006|12b97d40968d85c6b...|2020-05-30|0.001677966101694915|               1|2020-05-30 00:00:00|2020|    1.0|           66|\n",
      "| 126589006|8159c99366e1f966d...|2020-02-10|0.001677966101694915|               1|2020-02-10 00:00:00|2020|    6.0|           66|\n",
      "+----------+--------------------+----------+--------------------+----------------+-------------------+----+-------+-------------+\n",
      "only showing top 5 rows\n",
      "\n"
     ]
    }
   ],
   "source": [
    "trans_2020.show(5)"
   ]
  },
  {
   "cell_type": "code",
   "execution_count": 10,
   "metadata": {},
   "outputs": [
    {
     "name": "stdout",
     "output_type": "stream",
     "text": [
      "+-------+-------------+----------+-----+---+\n",
      "|buckets|prod_index_id|article_id|count|row|\n",
      "+-------+-------------+----------+-----+---+\n",
      "|   null|            2| 867969003|    3|  1|\n",
      "|   null|            2| 724906019|    3|  3|\n",
      "|   null|            2| 774113006|    3|  2|\n",
      "|   null|            4| 852584001|   17|  1|\n",
      "|   null|            4| 730683050|   13|  2|\n",
      "|   null|            4| 815434001|    8|  3|\n",
      "|   null|            5| 700701002|   21|  1|\n",
      "|   null|            5| 855080001|   15|  2|\n",
      "|   null|            5| 719957006|   14|  3|\n",
      "|   null|            8| 858811003|    1|  1|\n",
      "|   null|            9| 851780003|    5|  1|\n",
      "|   null|            9| 851780001|    4|  2|\n",
      "|   null|            9| 851780002|    3|  3|\n",
      "|   null|           10| 856667004|    6|  1|\n",
      "|   null|           10| 856667005|    3|  2|\n",
      "|   null|           10| 895555001|    3|  3|\n",
      "|   null|           12| 885584001|    1|  1|\n",
      "|   null|           13| 811783002|   16|  1|\n",
      "|   null|           13| 844409002|   13|  2|\n",
      "|   null|           13| 630994004|   12|  3|\n",
      "+-------+-------------+----------+-----+---+\n",
      "only showing top 20 rows\n",
      "\n"
     ]
    }
   ],
   "source": [
    "# Below gives the final Top-n purchase table\n",
    "\n",
    "trans_2020_small = trans_2020.select(col('article_id'), col('buckets'), col('prod_index_id'))\n",
    "\n",
    "top_n = trans_2020_small.groupBy('buckets', 'prod_index_id', 'article_id').count()\n",
    "top_n = top_n.sort(col('buckets'), col('prod_index_id'), col('count').desc())\n",
    "\n",
    "windowDept = Window.partitionBy(['buckets', 'prod_index_id']).orderBy(col(\"count\").desc())\n",
    "\n",
    "top_n = top_n.withColumn(\"row\",row_number().over(windowDept))\n",
    "top_n = top_n.filter(col('row') <= 3)\n",
    "\n",
    "top_n = top_n.sort(col('buckets'), col('prod_index_id'), col('count').desc())\n",
    "\n",
    "windowDept = Window.partitionBy(['buckets', 'prod_index_id']).orderBy(col(\"count\").desc())\n",
    "\n",
    "top_n = top_n.withColumn(\"row\",row_number().over(windowDept))\n",
    "top_n = top_n.filter(col('row') <= 3)\n",
    "\n",
    "top_n = top_n.sort(col('buckets'), col('prod_index_id'), col('count').desc())\n",
    "\n",
    "top_n.show()"
   ]
  },
  {
   "cell_type": "markdown",
   "metadata": {},
   "source": [
    "#### Load Data and Merge"
   ]
  },
  {
   "cell_type": "markdown",
   "metadata": {},
   "source": [
    "##### Read in data from train_par"
   ]
  },
  {
   "cell_type": "code",
   "execution_count": 11,
   "metadata": {},
   "outputs": [],
   "source": [
    "parquetFile = spark.read.parquet(\"train_par\")\n",
    "parquetFile.createOrReplaceTempView(\"train\")"
   ]
  },
  {
   "cell_type": "code",
   "execution_count": 12,
   "metadata": {},
   "outputs": [],
   "source": [
    "train_final = spark.sql(\"SELECT * FROM train\")\n",
    "\n",
    "train_final = train_final.groupBy('customer_id') \\\n",
    "                      .agg(collect_set('prod_index_id') \\\n",
    "                      .alias('items'))"
   ]
  },
  {
   "cell_type": "code",
   "execution_count": 13,
   "metadata": {},
   "outputs": [
    {
     "name": "stdout",
     "output_type": "stream",
     "text": [
      "+--------------------+--------------------+\n",
      "|         customer_id|               items|\n",
      "+--------------------+--------------------+\n",
      "|037ecdde0c1ccf9aa...|[37, 103, 243, 35...|\n",
      "|038107c7f10c14bac...|[299, 263, 306, 2...|\n",
      "|03a250a3def5fdeb2...|[299, 304, 258, 265]|\n",
      "|03b286afcf95433cc...|               [306]|\n",
      "|03cbb6ef35c9d7f4d...|               [258]|\n",
      "|03deb76b617aee9ed...|[215, 168, 37, 24...|\n",
      "|03f4c3fe994d9ab76...|[335, 455, 238, 2...|\n",
      "|03fadee866717dbb6...|[218, 212, 9, 456...|\n",
      "|03fccd820834e598d...|     [230, 216, 304]|\n",
      "|04068da583e91ef4c...|               [212]|\n",
      "+--------------------+--------------------+\n",
      "only showing top 10 rows\n",
      "\n"
     ]
    }
   ],
   "source": [
    "train_final.show(10)"
   ]
  },
  {
   "cell_type": "markdown",
   "metadata": {},
   "source": [
    "Read in data from testprior_par and testafter_par, then merge"
   ]
  },
  {
   "cell_type": "code",
   "execution_count": 14,
   "metadata": {},
   "outputs": [],
   "source": [
    "parquetFile = spark.read.parquet(\"testprior_par\")\n",
    "parquetFile.createOrReplaceTempView(\"test_prior\")"
   ]
  },
  {
   "cell_type": "code",
   "execution_count": 15,
   "metadata": {},
   "outputs": [],
   "source": [
    "testprior_final = spark.sql(\"SELECT * FROM test_prior\")\n",
    "\n",
    "testprior_final = testprior_final.groupBy('customer_id') \\\n",
    "                      .agg(collect_set('prod_index_id') \\\n",
    "                      .alias('history'))"
   ]
  },
  {
   "cell_type": "code",
   "execution_count": 16,
   "metadata": {},
   "outputs": [
    {
     "name": "stdout",
     "output_type": "stream",
     "text": [
      "+--------------------+--------------------+\n",
      "|         customer_id|             history|\n",
      "+--------------------+--------------------+\n",
      "|05a45a5e4c53a72f1...|[230, 306, 285, 2...|\n",
      "|05a8260d130f082b0...|[230, 430, 227, 454]|\n",
      "|05aeca0642a1d1d14...|[354, 13, 304, 35...|\n",
      "|05c2293d6ab5896be...|               [289]|\n",
      "|05c7d4f73fcde0580...|[299, 306, 223, 2...|\n",
      "|05caad573b928bb68...|     [350, 243, 381]|\n",
      "|05e0a597465504e1e...|[299, 379, 227, 1...|\n",
      "|05f65801b9a2d28a5...|[230, 299, 379, 3...|\n",
      "|05fb9d8e4d5a03715...|                [97]|\n",
      "|060d675c6b3339f5a...|[306, 241, 410, 2...|\n",
      "+--------------------+--------------------+\n",
      "only showing top 10 rows\n",
      "\n"
     ]
    }
   ],
   "source": [
    "testprior_final.show(10)"
   ]
  },
  {
   "cell_type": "code",
   "execution_count": 17,
   "metadata": {},
   "outputs": [],
   "source": [
    "parquetFile = spark.read.parquet(\"testafter_par\")\n",
    "parquetFile.createOrReplaceTempView(\"test_after\")"
   ]
  },
  {
   "cell_type": "code",
   "execution_count": 18,
   "metadata": {},
   "outputs": [],
   "source": [
    "testafter_final = spark.sql(\"SELECT * FROM test_after\")\n",
    "\n",
    "testafter_final = testafter_final.groupBy('customer_id') \\\n",
    "                      .agg(collect_set('article_id') \\\n",
    "                      .alias('labels'))"
   ]
  },
  {
   "cell_type": "code",
   "execution_count": 19,
   "metadata": {},
   "outputs": [
    {
     "name": "stdout",
     "output_type": "stream",
     "text": [
      "+--------------------+--------------------+\n",
      "|         customer_id|              labels|\n",
      "+--------------------+--------------------+\n",
      "|04daaa60957b280cb...|[794575001, 62448...|\n",
      "|054324bf3c4451750...|         [806778001]|\n",
      "|058306b9a1720d1a0...|[924250001, 89616...|\n",
      "|05a45a5e4c53a72f1...|         [832481003]|\n",
      "|05a8260d130f082b0...|[716672001, 27038...|\n",
      "|05aeca0642a1d1d14...|         [825714001]|\n",
      "|05c2293d6ab5896be...|[776237011, 59958...|\n",
      "|05c7d4f73fcde0580...|[877769001, 86579...|\n",
      "|05caad573b928bb68...|[892937003, 75268...|\n",
      "|05e0a597465504e1e...|[837306010, 76284...|\n",
      "+--------------------+--------------------+\n",
      "only showing top 10 rows\n",
      "\n"
     ]
    }
   ],
   "source": [
    "testafter_final.show(10)"
   ]
  },
  {
   "cell_type": "code",
   "execution_count": 20,
   "metadata": {},
   "outputs": [],
   "source": [
    "test_full = testprior_final.join(testafter_final, on = 'customer_id', how = 'inner')"
   ]
  },
  {
   "cell_type": "code",
   "execution_count": 21,
   "metadata": {},
   "outputs": [
    {
     "name": "stdout",
     "output_type": "stream",
     "text": [
      "+--------------------+--------------------+--------------------+\n",
      "|         customer_id|             history|              labels|\n",
      "+--------------------+--------------------+--------------------+\n",
      "|05a45a5e4c53a72f1...|[230, 306, 285, 2...|         [832481003]|\n",
      "|05a8260d130f082b0...|[230, 430, 227, 454]|[716672001, 27038...|\n",
      "|05aeca0642a1d1d14...|[354, 13, 304, 35...|         [825714001]|\n",
      "|05c2293d6ab5896be...|               [289]|[776237011, 59958...|\n",
      "|05c7d4f73fcde0580...|[299, 306, 223, 2...|[877769001, 86579...|\n",
      "|05caad573b928bb68...|     [350, 243, 381]|[892937003, 75268...|\n",
      "|05e0a597465504e1e...|[299, 379, 227, 1...|[837306010, 76284...|\n",
      "|05f65801b9a2d28a5...|[230, 299, 379, 3...|[815629005, 87575...|\n",
      "|05fb9d8e4d5a03715...|                [97]|[794468003, 90741...|\n",
      "|060d675c6b3339f5a...|[306, 241, 410, 2...|[808648001, 82397...|\n",
      "+--------------------+--------------------+--------------------+\n",
      "only showing top 10 rows\n",
      "\n"
     ]
    }
   ],
   "source": [
    "test_full.show(10)"
   ]
  },
  {
   "cell_type": "markdown",
   "metadata": {},
   "source": [
    "<br>"
   ]
  },
  {
   "cell_type": "markdown",
   "metadata": {},
   "source": [
    "#### Market Basket Analysis"
   ]
  },
  {
   "cell_type": "code",
   "execution_count": 22,
   "metadata": {},
   "outputs": [],
   "source": [
    "# Specify Model\n",
    "\n",
    "fpGrowth = FPGrowth(itemsCol=\"items\", minSupport=0.05, minConfidence=0.01)"
   ]
  },
  {
   "cell_type": "code",
   "execution_count": 23,
   "metadata": {},
   "outputs": [],
   "source": [
    "model = fpGrowth.fit(train_final)"
   ]
  },
  {
   "cell_type": "code",
   "execution_count": 24,
   "metadata": {},
   "outputs": [
    {
     "name": "stdout",
     "output_type": "stream",
     "text": [
      "+----------+----------+------------------+------------------+--------------------+\n",
      "|antecedent|consequent|        confidence|              lift|             support|\n",
      "+----------+----------+------------------+------------------+--------------------+\n",
      "| [21, 454]|     [415]|0.9312902525508358| 4.468263972332483| 0.05855215416148192|\n",
      "| [21, 334]|     [415]| 0.917356615986753|4.4014113814325615| 0.05545154473135255|\n",
      "| [21, 304]|     [415]|0.9165929855585028| 4.397747537296556|  0.0636728231469707|\n",
      "|      [21]|     [415]|0.9101162709740305| 4.366672724307146| 0.17842039532201523|\n",
      "|[454, 415]|      [21]|0.8666621771776828| 4.420813817072974| 0.05855215416148192|\n",
      "|[415, 334]|      [21]|0.8625619249823071| 4.399898572314249| 0.05545154473135255|\n",
      "|[415, 304]|      [21]|0.8618672250277127| 4.396354931852181|  0.0636728231469707|\n",
      "|     [415]|      [21]|0.8560482858733259| 4.366672724307145| 0.17842039532201523|\n",
      "|[306, 334]|     [304]|0.7171623986002863| 2.338901067320764| 0.05128403447750295|\n",
      "|[258, 230]|     [304]|0.6452828241123039|2.1044782729625693| 0.05688469509157376|\n",
      "|[333, 304]|     [334]|0.6425312139597854|  2.21405119364591|   0.058299646717062|\n",
      "|[258, 334]|     [304]|0.6358539678302075|2.0737276897406227| 0.06501725467536869|\n",
      "|[216, 304]|     [334]|0.6344488188976378| 2.186200661179816|0.051322706788810506|\n",
      "|[258, 230]|     [334]|0.6216453344343518|2.1420820729417986| 0.05480093996464896|\n",
      "|[238, 304]|     [334]|0.6190949776230731| 2.133293985422384|0.050979205670725745|\n",
      "|[230, 334]|     [304]|0.6140310305680529|2.0025559560382593| 0.06644130566822341|\n",
      "|[230, 304]|     [334]|0.6042244197112003|2.0820526203654897| 0.06644130566822341|\n",
      "|     [354]|     [304]|0.6028999356031493|1.9662538159028111| 0.06602273476936515|\n",
      "|[258, 304]|     [334]|0.6014646772869799| 2.072543026316596| 0.06501725467536869|\n",
      "|[216, 334]|     [304]|0.5915467107160649|1.9292272374628916|0.051322706788810506|\n",
      "+----------+----------+------------------+------------------+--------------------+\n",
      "only showing top 20 rows\n",
      "\n"
     ]
    }
   ],
   "source": [
    "# Show top 10 association rules\n",
    "\n",
    "rules = model.associationRules.sort(col('Confidence').desc())\n",
    "\n",
    "rules.show(20)"
   ]
  },
  {
   "cell_type": "code",
   "execution_count": 25,
   "metadata": {},
   "outputs": [
    {
     "data": {
      "text/plain": [
       "163"
      ]
     },
     "execution_count": 25,
     "metadata": {},
     "output_type": "execute_result"
    }
   ],
   "source": [
    "rules.count()"
   ]
  },
  {
   "cell_type": "code",
   "execution_count": 26,
   "metadata": {},
   "outputs": [
    {
     "name": "stdout",
     "output_type": "stream",
     "text": [
      "Antedents:\n",
      "+-------------+-----------------+\n",
      "|prod_index_id|product_type_name|\n",
      "+-------------+-----------------+\n",
      "|           21|  Swimwear bottom|\n",
      "+-------------+-----------------+\n",
      "only showing top 1 row\n",
      "\n",
      "+-------------+-----------------+\n",
      "|prod_index_id|product_type_name|\n",
      "+-------------+-----------------+\n",
      "|          454|              Bra|\n",
      "+-------------+-----------------+\n",
      "only showing top 1 row\n",
      "\n",
      "\n",
      "Consequent:\n",
      "+-------------+-----------------+\n",
      "|prod_index_id|product_type_name|\n",
      "+-------------+-----------------+\n",
      "|          415|       Bikini top|\n",
      "+-------------+-----------------+\n",
      "only showing top 1 row\n",
      "\n"
     ]
    }
   ],
   "source": [
    "print(\"Antedents:\")\n",
    "\n",
    "art_lookup.filter(col('prod_index_id') == '21').select(col('prod_index_id'), col('product_type_name')).show(1)\n",
    "art_lookup.filter(col('prod_index_id') == '454').select(col('prod_index_id'), col('product_type_name')).show(1)\n",
    "\n",
    "print(\"\")\n",
    "print(\"Consequent:\")\n",
    "\n",
    "art_lookup.filter(col('prod_index_id') == '415').select(col('prod_index_id'), col('product_type_name')).show(1)"
   ]
  },
  {
   "cell_type": "markdown",
   "metadata": {},
   "source": [
    "<br>"
   ]
  },
  {
   "cell_type": "markdown",
   "metadata": {},
   "source": [
    "#### Make Predictions On Test Set"
   ]
  },
  {
   "cell_type": "markdown",
   "metadata": {},
   "source": [
    "##### Create dataframe of all subsets of basket for each customer"
   ]
  },
  {
   "cell_type": "code",
   "execution_count": 27,
   "metadata": {},
   "outputs": [],
   "source": [
    "import itertools\n",
    "n_test = test_full.count()\n",
    "#n_test = 1\n",
    "\n",
    "cust_id = test_full.rdd.map(lambda x: x[0]).collect()\n",
    "history = test_full.rdd.map(lambda x: x[1]).collect()"
   ]
  },
  {
   "cell_type": "code",
   "execution_count": 28,
   "metadata": {},
   "outputs": [
    {
     "name": "stdout",
     "output_type": "stream",
     "text": [
      "4398581\n"
     ]
    }
   ],
   "source": [
    "# Create list of all possible subsets of baskets of length 1, 2, by customer\n",
    "\n",
    "train_antedecent = []\n",
    "\n",
    "for i in range(n_test):\n",
    "    \n",
    "    combo1 = []\n",
    "    combo2 = []\n",
    "    combo3 = []\n",
    "    combo_all = []\n",
    "    \n",
    "    cust = cust_id[i]\n",
    "    hist = history[i]\n",
    "    \n",
    "    combo1 = hist\n",
    "    combo2 = list(itertools.combinations(hist, 2))\n",
    "    #combo3 = list(itertools.combinations(hist, 3))\n",
    "    \n",
    "    for item in combo1:\n",
    "        combo_all.append(item)\n",
    "    \n",
    "    for item in combo2:\n",
    "        combo_all.append(item)\n",
    "    \n",
    "    temp = list(itertools.product([cust], combo_all))\n",
    "    \n",
    "    for item in temp:\n",
    "        train_antedecent.append(item)\n",
    "\n",
    "print(len(train_antedecent))"
   ]
  },
  {
   "cell_type": "code",
   "execution_count": 29,
   "metadata": {},
   "outputs": [],
   "source": [
    "customerid = [train_antedecent[i][0] for i in range(len(train_antedecent))]\n",
    "combinations = [train_antedecent[i][1] for i in range(len(train_antedecent))]\n",
    "\n",
    "sample_pred = pd.DataFrame(zip(customerid, combinations), columns = ['customer_id', 'basket'])\n",
    "\n",
    "sample_pred['basket_clean'] = sample_pred['basket'].apply(lambda x: list(x) if (isinstance(x, tuple) == True) else [x])\n",
    "sample_pred.basket_clean = sample_pred.basket_clean.apply(sorted)\n",
    "\n",
    "sample_pred['basket_clean'] = sample_pred['basket_clean'].apply(lambda x: str(x[0]) if (len(x) == 1) else str(x[0]) + '-' + str(x[1]))"
   ]
  },
  {
   "cell_type": "code",
   "execution_count": 30,
   "metadata": {},
   "outputs": [
    {
     "data": {
      "text/html": [
       "<div>\n",
       "<style scoped>\n",
       "    .dataframe tbody tr th:only-of-type {\n",
       "        vertical-align: middle;\n",
       "    }\n",
       "\n",
       "    .dataframe tbody tr th {\n",
       "        vertical-align: top;\n",
       "    }\n",
       "\n",
       "    .dataframe thead th {\n",
       "        text-align: right;\n",
       "    }\n",
       "</style>\n",
       "<table border=\"1\" class=\"dataframe\">\n",
       "  <thead>\n",
       "    <tr style=\"text-align: right;\">\n",
       "      <th></th>\n",
       "      <th>customer_id</th>\n",
       "      <th>basket</th>\n",
       "      <th>basket_clean</th>\n",
       "    </tr>\n",
       "  </thead>\n",
       "  <tbody>\n",
       "    <tr>\n",
       "      <th>0</th>\n",
       "      <td>05a45a5e4c53a72f1fa1aaa812b0e907c91aa2b59c156a...</td>\n",
       "      <td>230</td>\n",
       "      <td>230</td>\n",
       "    </tr>\n",
       "    <tr>\n",
       "      <th>1</th>\n",
       "      <td>05a45a5e4c53a72f1fa1aaa812b0e907c91aa2b59c156a...</td>\n",
       "      <td>306</td>\n",
       "      <td>306</td>\n",
       "    </tr>\n",
       "    <tr>\n",
       "      <th>2</th>\n",
       "      <td>05a45a5e4c53a72f1fa1aaa812b0e907c91aa2b59c156a...</td>\n",
       "      <td>285</td>\n",
       "      <td>285</td>\n",
       "    </tr>\n",
       "    <tr>\n",
       "      <th>3</th>\n",
       "      <td>05a45a5e4c53a72f1fa1aaa812b0e907c91aa2b59c156a...</td>\n",
       "      <td>238</td>\n",
       "      <td>238</td>\n",
       "    </tr>\n",
       "    <tr>\n",
       "      <th>4</th>\n",
       "      <td>05a45a5e4c53a72f1fa1aaa812b0e907c91aa2b59c156a...</td>\n",
       "      <td>221</td>\n",
       "      <td>221</td>\n",
       "    </tr>\n",
       "    <tr>\n",
       "      <th>5</th>\n",
       "      <td>05a45a5e4c53a72f1fa1aaa812b0e907c91aa2b59c156a...</td>\n",
       "      <td>21</td>\n",
       "      <td>21</td>\n",
       "    </tr>\n",
       "    <tr>\n",
       "      <th>6</th>\n",
       "      <td>05a45a5e4c53a72f1fa1aaa812b0e907c91aa2b59c156a...</td>\n",
       "      <td>177</td>\n",
       "      <td>177</td>\n",
       "    </tr>\n",
       "    <tr>\n",
       "      <th>7</th>\n",
       "      <td>05a45a5e4c53a72f1fa1aaa812b0e907c91aa2b59c156a...</td>\n",
       "      <td>25</td>\n",
       "      <td>25</td>\n",
       "    </tr>\n",
       "    <tr>\n",
       "      <th>8</th>\n",
       "      <td>05a45a5e4c53a72f1fa1aaa812b0e907c91aa2b59c156a...</td>\n",
       "      <td>258</td>\n",
       "      <td>258</td>\n",
       "    </tr>\n",
       "    <tr>\n",
       "      <th>9</th>\n",
       "      <td>05a45a5e4c53a72f1fa1aaa812b0e907c91aa2b59c156a...</td>\n",
       "      <td>415</td>\n",
       "      <td>415</td>\n",
       "    </tr>\n",
       "    <tr>\n",
       "      <th>10</th>\n",
       "      <td>05a45a5e4c53a72f1fa1aaa812b0e907c91aa2b59c156a...</td>\n",
       "      <td>(230, 306)</td>\n",
       "      <td>230-306</td>\n",
       "    </tr>\n",
       "    <tr>\n",
       "      <th>11</th>\n",
       "      <td>05a45a5e4c53a72f1fa1aaa812b0e907c91aa2b59c156a...</td>\n",
       "      <td>(230, 285)</td>\n",
       "      <td>230-285</td>\n",
       "    </tr>\n",
       "    <tr>\n",
       "      <th>12</th>\n",
       "      <td>05a45a5e4c53a72f1fa1aaa812b0e907c91aa2b59c156a...</td>\n",
       "      <td>(230, 238)</td>\n",
       "      <td>230-238</td>\n",
       "    </tr>\n",
       "    <tr>\n",
       "      <th>13</th>\n",
       "      <td>05a45a5e4c53a72f1fa1aaa812b0e907c91aa2b59c156a...</td>\n",
       "      <td>(230, 221)</td>\n",
       "      <td>221-230</td>\n",
       "    </tr>\n",
       "    <tr>\n",
       "      <th>14</th>\n",
       "      <td>05a45a5e4c53a72f1fa1aaa812b0e907c91aa2b59c156a...</td>\n",
       "      <td>(230, 21)</td>\n",
       "      <td>21-230</td>\n",
       "    </tr>\n",
       "  </tbody>\n",
       "</table>\n",
       "</div>"
      ],
      "text/plain": [
       "                                          customer_id      basket basket_clean\n",
       "0   05a45a5e4c53a72f1fa1aaa812b0e907c91aa2b59c156a...         230          230\n",
       "1   05a45a5e4c53a72f1fa1aaa812b0e907c91aa2b59c156a...         306          306\n",
       "2   05a45a5e4c53a72f1fa1aaa812b0e907c91aa2b59c156a...         285          285\n",
       "3   05a45a5e4c53a72f1fa1aaa812b0e907c91aa2b59c156a...         238          238\n",
       "4   05a45a5e4c53a72f1fa1aaa812b0e907c91aa2b59c156a...         221          221\n",
       "5   05a45a5e4c53a72f1fa1aaa812b0e907c91aa2b59c156a...          21           21\n",
       "6   05a45a5e4c53a72f1fa1aaa812b0e907c91aa2b59c156a...         177          177\n",
       "7   05a45a5e4c53a72f1fa1aaa812b0e907c91aa2b59c156a...          25           25\n",
       "8   05a45a5e4c53a72f1fa1aaa812b0e907c91aa2b59c156a...         258          258\n",
       "9   05a45a5e4c53a72f1fa1aaa812b0e907c91aa2b59c156a...         415          415\n",
       "10  05a45a5e4c53a72f1fa1aaa812b0e907c91aa2b59c156a...  (230, 306)      230-306\n",
       "11  05a45a5e4c53a72f1fa1aaa812b0e907c91aa2b59c156a...  (230, 285)      230-285\n",
       "12  05a45a5e4c53a72f1fa1aaa812b0e907c91aa2b59c156a...  (230, 238)      230-238\n",
       "13  05a45a5e4c53a72f1fa1aaa812b0e907c91aa2b59c156a...  (230, 221)      221-230\n",
       "14  05a45a5e4c53a72f1fa1aaa812b0e907c91aa2b59c156a...   (230, 21)       21-230"
      ]
     },
     "execution_count": 30,
     "metadata": {},
     "output_type": "execute_result"
    }
   ],
   "source": [
    "sample_pred.head(15)"
   ]
  },
  {
   "cell_type": "markdown",
   "metadata": {},
   "source": [
    "##### Process rules dataset"
   ]
  },
  {
   "cell_type": "code",
   "execution_count": 31,
   "metadata": {},
   "outputs": [
    {
     "data": {
      "text/html": [
       "<div>\n",
       "<style scoped>\n",
       "    .dataframe tbody tr th:only-of-type {\n",
       "        vertical-align: middle;\n",
       "    }\n",
       "\n",
       "    .dataframe tbody tr th {\n",
       "        vertical-align: top;\n",
       "    }\n",
       "\n",
       "    .dataframe thead th {\n",
       "        text-align: right;\n",
       "    }\n",
       "</style>\n",
       "<table border=\"1\" class=\"dataframe\">\n",
       "  <thead>\n",
       "    <tr style=\"text-align: right;\">\n",
       "      <th></th>\n",
       "      <th>antecedent</th>\n",
       "      <th>consequent</th>\n",
       "      <th>confidence</th>\n",
       "      <th>lift</th>\n",
       "      <th>support</th>\n",
       "    </tr>\n",
       "  </thead>\n",
       "  <tbody>\n",
       "    <tr>\n",
       "      <th>0</th>\n",
       "      <td>21-454</td>\n",
       "      <td>415</td>\n",
       "      <td>0.931290</td>\n",
       "      <td>4.468264</td>\n",
       "      <td>0.058552</td>\n",
       "    </tr>\n",
       "    <tr>\n",
       "      <th>1</th>\n",
       "      <td>21-334</td>\n",
       "      <td>415</td>\n",
       "      <td>0.917357</td>\n",
       "      <td>4.401411</td>\n",
       "      <td>0.055452</td>\n",
       "    </tr>\n",
       "    <tr>\n",
       "      <th>2</th>\n",
       "      <td>21-304</td>\n",
       "      <td>415</td>\n",
       "      <td>0.916593</td>\n",
       "      <td>4.397748</td>\n",
       "      <td>0.063673</td>\n",
       "    </tr>\n",
       "    <tr>\n",
       "      <th>3</th>\n",
       "      <td>21</td>\n",
       "      <td>415</td>\n",
       "      <td>0.910116</td>\n",
       "      <td>4.366673</td>\n",
       "      <td>0.178420</td>\n",
       "    </tr>\n",
       "    <tr>\n",
       "      <th>4</th>\n",
       "      <td>415-454</td>\n",
       "      <td>21</td>\n",
       "      <td>0.866662</td>\n",
       "      <td>4.420814</td>\n",
       "      <td>0.058552</td>\n",
       "    </tr>\n",
       "    <tr>\n",
       "      <th>5</th>\n",
       "      <td>334-415</td>\n",
       "      <td>21</td>\n",
       "      <td>0.862562</td>\n",
       "      <td>4.399899</td>\n",
       "      <td>0.055452</td>\n",
       "    </tr>\n",
       "    <tr>\n",
       "      <th>6</th>\n",
       "      <td>304-415</td>\n",
       "      <td>21</td>\n",
       "      <td>0.861867</td>\n",
       "      <td>4.396355</td>\n",
       "      <td>0.063673</td>\n",
       "    </tr>\n",
       "    <tr>\n",
       "      <th>7</th>\n",
       "      <td>415</td>\n",
       "      <td>21</td>\n",
       "      <td>0.856048</td>\n",
       "      <td>4.366673</td>\n",
       "      <td>0.178420</td>\n",
       "    </tr>\n",
       "    <tr>\n",
       "      <th>8</th>\n",
       "      <td>306-334</td>\n",
       "      <td>304</td>\n",
       "      <td>0.717162</td>\n",
       "      <td>2.338901</td>\n",
       "      <td>0.051284</td>\n",
       "    </tr>\n",
       "    <tr>\n",
       "      <th>9</th>\n",
       "      <td>230-258</td>\n",
       "      <td>304</td>\n",
       "      <td>0.645283</td>\n",
       "      <td>2.104478</td>\n",
       "      <td>0.056885</td>\n",
       "    </tr>\n",
       "  </tbody>\n",
       "</table>\n",
       "</div>"
      ],
      "text/plain": [
       "  antecedent  consequent  confidence      lift   support\n",
       "0     21-454         415    0.931290  4.468264  0.058552\n",
       "1     21-334         415    0.917357  4.401411  0.055452\n",
       "2     21-304         415    0.916593  4.397748  0.063673\n",
       "3         21         415    0.910116  4.366673  0.178420\n",
       "4    415-454          21    0.866662  4.420814  0.058552\n",
       "5    334-415          21    0.862562  4.399899  0.055452\n",
       "6    304-415          21    0.861867  4.396355  0.063673\n",
       "7        415          21    0.856048  4.366673  0.178420\n",
       "8    306-334         304    0.717162  2.338901  0.051284\n",
       "9    230-258         304    0.645283  2.104478  0.056885"
      ]
     },
     "execution_count": 31,
     "metadata": {},
     "output_type": "execute_result"
    }
   ],
   "source": [
    "rules_pd = rules.toPandas()\n",
    "\n",
    "rules_pd.antecedent = rules_pd.antecedent.apply(sorted)\n",
    "rules_pd['antecedent'] = rules_pd['antecedent'].apply(lambda x: str(x[0]) if (len(x) == 1) else str(x[0]) + '-' + str(x[1]))\n",
    "rules_pd['consequent'] = rules_pd['consequent'].apply(lambda x: x[0])\n",
    "\n",
    "rules_pd.head(10)"
   ]
  },
  {
   "cell_type": "markdown",
   "metadata": {},
   "source": [
    "##### Merge the sample_pred dataframe on the rules dataframe using basket_clean = antecedent. We then know that for each customer, the \"consequent\" shows which item they would likely buy. \n",
    "\n",
    "##### We take the top 4 rules for each customer based on the confidence of the rule"
   ]
  },
  {
   "cell_type": "code",
   "execution_count": 32,
   "metadata": {},
   "outputs": [
    {
     "data": {
      "text/html": [
       "<div>\n",
       "<style scoped>\n",
       "    .dataframe tbody tr th:only-of-type {\n",
       "        vertical-align: middle;\n",
       "    }\n",
       "\n",
       "    .dataframe tbody tr th {\n",
       "        vertical-align: top;\n",
       "    }\n",
       "\n",
       "    .dataframe thead th {\n",
       "        text-align: right;\n",
       "    }\n",
       "</style>\n",
       "<table border=\"1\" class=\"dataframe\">\n",
       "  <thead>\n",
       "    <tr style=\"text-align: right;\">\n",
       "      <th></th>\n",
       "      <th>customer_id</th>\n",
       "      <th>consequent</th>\n",
       "      <th>confidence</th>\n",
       "      <th>buckets</th>\n",
       "    </tr>\n",
       "  </thead>\n",
       "  <tbody>\n",
       "    <tr>\n",
       "      <th>0</th>\n",
       "      <td>04ba60f45066f9491d85f1db5f200318b23745ce3043ac...</td>\n",
       "      <td>304</td>\n",
       "      <td>0.717162</td>\n",
       "      <td>3.0</td>\n",
       "    </tr>\n",
       "    <tr>\n",
       "      <th>1</th>\n",
       "      <td>04ba60f45066f9491d85f1db5f200318b23745ce3043ac...</td>\n",
       "      <td>334</td>\n",
       "      <td>0.506106</td>\n",
       "      <td>3.0</td>\n",
       "    </tr>\n",
       "    <tr>\n",
       "      <th>2</th>\n",
       "      <td>04ba60f45066f9491d85f1db5f200318b23745ce3043ac...</td>\n",
       "      <td>230</td>\n",
       "      <td>0.497208</td>\n",
       "      <td>3.0</td>\n",
       "    </tr>\n",
       "    <tr>\n",
       "      <th>3</th>\n",
       "      <td>04ba912d6da150012aba2f4d0c295c94882c1ca78d3439...</td>\n",
       "      <td>415</td>\n",
       "      <td>0.917357</td>\n",
       "      <td>3.0</td>\n",
       "    </tr>\n",
       "    <tr>\n",
       "      <th>4</th>\n",
       "      <td>04ba912d6da150012aba2f4d0c295c94882c1ca78d3439...</td>\n",
       "      <td>21</td>\n",
       "      <td>0.862562</td>\n",
       "      <td>3.0</td>\n",
       "    </tr>\n",
       "    <tr>\n",
       "      <th>5</th>\n",
       "      <td>04ba9a16a49027a298374a243243ed7f25f13550fa0340...</td>\n",
       "      <td>415</td>\n",
       "      <td>0.917357</td>\n",
       "      <td>6.0</td>\n",
       "    </tr>\n",
       "    <tr>\n",
       "      <th>6</th>\n",
       "      <td>04ba9a16a49027a298374a243243ed7f25f13550fa0340...</td>\n",
       "      <td>21</td>\n",
       "      <td>0.862562</td>\n",
       "      <td>6.0</td>\n",
       "    </tr>\n",
       "    <tr>\n",
       "      <th>7</th>\n",
       "      <td>04bacf040099b9f157d45bf310959f86fdb8ffeb2ca396...</td>\n",
       "      <td>454</td>\n",
       "      <td>0.587031</td>\n",
       "      <td>2.0</td>\n",
       "    </tr>\n",
       "    <tr>\n",
       "      <th>8</th>\n",
       "      <td>04bacf040099b9f157d45bf310959f86fdb8ffeb2ca396...</td>\n",
       "      <td>304</td>\n",
       "      <td>0.535383</td>\n",
       "      <td>2.0</td>\n",
       "    </tr>\n",
       "    <tr>\n",
       "      <th>9</th>\n",
       "      <td>04bacf040099b9f157d45bf310959f86fdb8ffeb2ca396...</td>\n",
       "      <td>334</td>\n",
       "      <td>0.506428</td>\n",
       "      <td>2.0</td>\n",
       "    </tr>\n",
       "  </tbody>\n",
       "</table>\n",
       "</div>"
      ],
      "text/plain": [
       "                                         customer_id  consequent  confidence  \\\n",
       "0  04ba60f45066f9491d85f1db5f200318b23745ce3043ac...         304    0.717162   \n",
       "1  04ba60f45066f9491d85f1db5f200318b23745ce3043ac...         334    0.506106   \n",
       "2  04ba60f45066f9491d85f1db5f200318b23745ce3043ac...         230    0.497208   \n",
       "3  04ba912d6da150012aba2f4d0c295c94882c1ca78d3439...         415    0.917357   \n",
       "4  04ba912d6da150012aba2f4d0c295c94882c1ca78d3439...          21    0.862562   \n",
       "5  04ba9a16a49027a298374a243243ed7f25f13550fa0340...         415    0.917357   \n",
       "6  04ba9a16a49027a298374a243243ed7f25f13550fa0340...          21    0.862562   \n",
       "7  04bacf040099b9f157d45bf310959f86fdb8ffeb2ca396...         454    0.587031   \n",
       "8  04bacf040099b9f157d45bf310959f86fdb8ffeb2ca396...         304    0.535383   \n",
       "9  04bacf040099b9f157d45bf310959f86fdb8ffeb2ca396...         334    0.506428   \n",
       "\n",
       "   buckets  \n",
       "0      3.0  \n",
       "1      3.0  \n",
       "2      3.0  \n",
       "3      3.0  \n",
       "4      3.0  \n",
       "5      6.0  \n",
       "6      6.0  \n",
       "7      2.0  \n",
       "8      2.0  \n",
       "9      2.0  "
      ]
     },
     "execution_count": 32,
     "metadata": {},
     "output_type": "execute_result"
    }
   ],
   "source": [
    "# Merge sample_pred with rules\n",
    "\n",
    "item_pred = pd.merge(sample_pred, rules_pd, left_on = 'basket_clean', right_on = 'antecedent', how = 'inner')\n",
    "\n",
    "# Format table and take top 4 rules\n",
    "\n",
    "item_pred = item_pred.sort_values(by = ['customer_id', 'confidence'], ascending = [True, False])\n",
    "item_pred = item_pred[['customer_id', 'consequent', 'confidence']]\n",
    "item_pred = item_pred.groupby('customer_id').head(4)\n",
    "item_pred = item_pred.drop_duplicates(subset = ['customer_id', 'consequent'], keep = 'first')\n",
    "\n",
    "# Get age grouping\n",
    "\n",
    "dem_short_pd = dem_short.toPandas()\n",
    "item_pred = pd.merge(item_pred, dem_short_pd, on = 'customer_id', how = 'inner')\n",
    "\n",
    "item_pred.head(10)"
   ]
  },
  {
   "cell_type": "markdown",
   "metadata": {},
   "source": [
    "##### Finally join to top_n to make predictions of specific products"
   ]
  },
  {
   "cell_type": "code",
   "execution_count": 35,
   "metadata": {},
   "outputs": [
    {
     "data": {
      "text/html": [
       "<div>\n",
       "<style scoped>\n",
       "    .dataframe tbody tr th:only-of-type {\n",
       "        vertical-align: middle;\n",
       "    }\n",
       "\n",
       "    .dataframe tbody tr th {\n",
       "        vertical-align: top;\n",
       "    }\n",
       "\n",
       "    .dataframe thead th {\n",
       "        text-align: right;\n",
       "    }\n",
       "</style>\n",
       "<table border=\"1\" class=\"dataframe\">\n",
       "  <thead>\n",
       "    <tr style=\"text-align: right;\">\n",
       "      <th></th>\n",
       "      <th>customer_id</th>\n",
       "      <th>article_id</th>\n",
       "      <th>article_sample</th>\n",
       "    </tr>\n",
       "  </thead>\n",
       "  <tbody>\n",
       "    <tr>\n",
       "      <th>0</th>\n",
       "      <td>04ba60f45066f9491d85f1db5f200318b23745ce3043ac...</td>\n",
       "      <td>[883033002, 841434001, 817353008, 751471001, 7...</td>\n",
       "      <td>[832361002, 883033002, 751471001, 841434001, 8...</td>\n",
       "    </tr>\n",
       "    <tr>\n",
       "      <th>1</th>\n",
       "      <td>04bead3ad988400817bc3953fba650102a05318dec051e...</td>\n",
       "      <td>[883033002, 841434001, 817353008, 751471001, 7...</td>\n",
       "      <td>[810557001, 817353008, 883033002, 562245046, 7...</td>\n",
       "    </tr>\n",
       "    <tr>\n",
       "      <th>2</th>\n",
       "      <td>04bf2365923c8a34cc62010c91c6d4bbbd01beba0577c2...</td>\n",
       "      <td>[883033002, 841434001, 817353008, 751471001, 7...</td>\n",
       "      <td>[562245046, 753737001, 841434001, 817353008, 7...</td>\n",
       "    </tr>\n",
       "    <tr>\n",
       "      <th>3</th>\n",
       "      <td>04bf83f5656b666ef6d093d9d05609ea993492afed1e40...</td>\n",
       "      <td>[883033002, 841434001, 817353008, 751471001, 7...</td>\n",
       "      <td>[562245046, 841434001, 753737001, 883033002, 7...</td>\n",
       "    </tr>\n",
       "    <tr>\n",
       "      <th>4</th>\n",
       "      <td>04c09031ed511c14ab85d9e82809d17da88e919414862d...</td>\n",
       "      <td>[883033002, 841434001, 817353008, 751471001, 7...</td>\n",
       "      <td>[562245046, 753737001, 751471001, 841434001, 8...</td>\n",
       "    </tr>\n",
       "    <tr>\n",
       "      <th>5</th>\n",
       "      <td>04c17e7e3d62d81de574116a8ec2bebac0e76719d57ade...</td>\n",
       "      <td>[883033002, 841434001, 817353008, 751471001, 7...</td>\n",
       "      <td>[753737001, 883033002, 850259001, 841434001, 8...</td>\n",
       "    </tr>\n",
       "    <tr>\n",
       "      <th>6</th>\n",
       "      <td>04c2ef7fbc1aead545caaec0ce03c2b9433129bfbfa082...</td>\n",
       "      <td>[883033002, 841434001, 817353008, 751471001, 7...</td>\n",
       "      <td>[841434001, 562245046, 817353008, 464297007, 8...</td>\n",
       "    </tr>\n",
       "    <tr>\n",
       "      <th>7</th>\n",
       "      <td>04c8230c64ab0f2394421312c431cab7fdf4f44b8e1222...</td>\n",
       "      <td>[883033002, 841434001, 817353008]</td>\n",
       "      <td>[841434001, 817353008, 883033002]</td>\n",
       "    </tr>\n",
       "    <tr>\n",
       "      <th>8</th>\n",
       "      <td>04c9b2cab2c8f7f8084d4b31d82d01641a2e4cd5765cfb...</td>\n",
       "      <td>[883033002, 841434001, 817353008, 751471001, 7...</td>\n",
       "      <td>[599580055, 751471001, 817353008, 753737001, 5...</td>\n",
       "    </tr>\n",
       "    <tr>\n",
       "      <th>9</th>\n",
       "      <td>04ca80476733408a907e3e171cacd382b378d05e7f09d0...</td>\n",
       "      <td>[883033002, 841434001, 817353008, 751471001, 7...</td>\n",
       "      <td>[883033002, 599580038, 841434001, 562245046, 5...</td>\n",
       "    </tr>\n",
       "  </tbody>\n",
       "</table>\n",
       "</div>"
      ],
      "text/plain": [
       "                                         customer_id  \\\n",
       "0  04ba60f45066f9491d85f1db5f200318b23745ce3043ac...   \n",
       "1  04bead3ad988400817bc3953fba650102a05318dec051e...   \n",
       "2  04bf2365923c8a34cc62010c91c6d4bbbd01beba0577c2...   \n",
       "3  04bf83f5656b666ef6d093d9d05609ea993492afed1e40...   \n",
       "4  04c09031ed511c14ab85d9e82809d17da88e919414862d...   \n",
       "5  04c17e7e3d62d81de574116a8ec2bebac0e76719d57ade...   \n",
       "6  04c2ef7fbc1aead545caaec0ce03c2b9433129bfbfa082...   \n",
       "7  04c8230c64ab0f2394421312c431cab7fdf4f44b8e1222...   \n",
       "8  04c9b2cab2c8f7f8084d4b31d82d01641a2e4cd5765cfb...   \n",
       "9  04ca80476733408a907e3e171cacd382b378d05e7f09d0...   \n",
       "\n",
       "                                          article_id  \\\n",
       "0  [883033002, 841434001, 817353008, 751471001, 7...   \n",
       "1  [883033002, 841434001, 817353008, 751471001, 7...   \n",
       "2  [883033002, 841434001, 817353008, 751471001, 7...   \n",
       "3  [883033002, 841434001, 817353008, 751471001, 7...   \n",
       "4  [883033002, 841434001, 817353008, 751471001, 7...   \n",
       "5  [883033002, 841434001, 817353008, 751471001, 7...   \n",
       "6  [883033002, 841434001, 817353008, 751471001, 7...   \n",
       "7                  [883033002, 841434001, 817353008]   \n",
       "8  [883033002, 841434001, 817353008, 751471001, 7...   \n",
       "9  [883033002, 841434001, 817353008, 751471001, 7...   \n",
       "\n",
       "                                      article_sample  \n",
       "0  [832361002, 883033002, 751471001, 841434001, 8...  \n",
       "1  [810557001, 817353008, 883033002, 562245046, 7...  \n",
       "2  [562245046, 753737001, 841434001, 817353008, 7...  \n",
       "3  [562245046, 841434001, 753737001, 883033002, 7...  \n",
       "4  [562245046, 753737001, 751471001, 841434001, 8...  \n",
       "5  [753737001, 883033002, 850259001, 841434001, 8...  \n",
       "6  [841434001, 562245046, 817353008, 464297007, 8...  \n",
       "7                  [841434001, 817353008, 883033002]  \n",
       "8  [599580055, 751471001, 817353008, 753737001, 5...  \n",
       "9  [883033002, 599580038, 841434001, 562245046, 5...  "
      ]
     },
     "execution_count": 35,
     "metadata": {},
     "output_type": "execute_result"
    }
   ],
   "source": [
    "top_n_pd = top_n.toPandas()\n",
    "\n",
    "pred_final = pd.merge(item_pred, top_n_pd, left_on = ['consequent', 'buckets'], \n",
    "                      right_on = ['prod_index_id', 'buckets'], \n",
    "                      how = 'inner')\n",
    "\n",
    "pred_final = pred_final[['customer_id', 'article_id']]\n",
    "pred_final = pred_final.groupby('customer_id', sort=False)['article_id'].apply(list).to_frame()\n",
    "pred_final.reset_index(inplace=True)\n",
    "\n",
    "pred_final['article_sample'] = pred_final['article_id'].apply(lambda line: random.sample(line, min(12, len(line))))\n",
    "\n",
    "pred_final.head(10)"
   ]
  },
  {
   "cell_type": "markdown",
   "metadata": {},
   "source": [
    "<br>"
   ]
  },
  {
   "cell_type": "markdown",
   "metadata": {},
   "source": [
    "#### Evaluate Predictions"
   ]
  },
  {
   "cell_type": "code",
   "execution_count": 36,
   "metadata": {},
   "outputs": [
    {
     "name": "stdout",
     "output_type": "stream",
     "text": [
      "+--------------------+--------------------+\n",
      "|         predictions|              labels|\n",
      "+--------------------+--------------------+\n",
      "|[859136002, 86300...|         [832481003]|\n",
      "|[856840001, 81736...|[716672001, 27038...|\n",
      "|[859136002, 86300...|         [825714001]|\n",
      "|[883033002, 84143...|[877769001, 86579...|\n",
      "|[883033002, 81735...|[837306010, 76284...|\n",
      "|[751471001, 75373...|[815629005, 87575...|\n",
      "|[859136002, 86300...|[808648001, 82397...|\n",
      "|[883033002, 84143...|[772234002, 86507...|\n",
      "|[678942001, 66407...|         [711239006]|\n",
      "|[841434001, 84143...|[739362008, 82316...|\n",
      "+--------------------+--------------------+\n",
      "only showing top 10 rows\n",
      "\n"
     ]
    }
   ],
   "source": [
    "pred_sc = spark.createDataFrame(pred_final) \n",
    "\n",
    "eval_df = test_full.join(pred_sc, on = 'customer_id', how = 'inner')\n",
    "eval_df = eval_df.select(col('article_id'), col('labels'))\n",
    "eval_df = eval_df.withColumnRenamed('article_id', 'predictions')\n",
    "\n",
    "eval_df.show(10)"
   ]
  },
  {
   "cell_type": "code",
   "execution_count": 37,
   "metadata": {},
   "outputs": [],
   "source": [
    "pred_labels = eval_df.select(col(\"predictions\"), col(\"labels\")).rdd\n",
    "pred_labels = pred_labels.map(lambda x: (x[0], x[1]))"
   ]
  },
  {
   "cell_type": "code",
   "execution_count": 38,
   "metadata": {},
   "outputs": [],
   "source": [
    "metrics = RankingMetrics(pred_labels)"
   ]
  },
  {
   "cell_type": "code",
   "execution_count": 39,
   "metadata": {},
   "outputs": [
    {
     "data": {
      "text/plain": [
       "0.0015986417381309223"
      ]
     },
     "execution_count": 39,
     "metadata": {},
     "output_type": "execute_result"
    }
   ],
   "source": [
    "metrics.meanAveragePrecisionAt(12)"
   ]
  }
 ],
 "metadata": {
  "kernelspec": {
   "display_name": "DS 5110 Spark 3.1",
   "language": "python",
   "name": "ds5110_spark3.1"
  },
  "language_info": {
   "codemirror_mode": {
    "name": "ipython",
    "version": 3
   },
   "file_extension": ".py",
   "mimetype": "text/x-python",
   "name": "python",
   "nbconvert_exporter": "python",
   "pygments_lexer": "ipython3",
   "version": "3.7.10"
  }
 },
 "nbformat": 4,
 "nbformat_minor": 4
}
