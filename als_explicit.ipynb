{
 "cells": [
  {
   "cell_type": "markdown",
   "metadata": {},
   "source": [
    "# Project Update\n",
    "#### Will Jarrard (wej5ar) Abhi Dommalapati (ad4bu), Sebastian Ranasinghe (sar2jf)"
   ]
  },
  {
   "cell_type": "markdown",
   "metadata": {},
   "source": [
    "## Setup Environment and clean data"
   ]
  },
  {
   "cell_type": "code",
   "execution_count": 1,
   "metadata": {},
   "outputs": [],
   "source": [
    "import numpy as np\n",
    "import pandas as pd\n",
    "import pyspark\n",
    "from pyspark.sql import SparkSession\n",
    "\n",
    "# Build spark session\n",
    "spark = SparkSession.builder \\\n",
    "    .master('local[*]') \\\n",
    "    .config(\"spark.driver.memory\", \"150g\") \\\n",
    "    .appName('my-cool-app') \\\n",
    "    .getOrCreate()\n",
    "\n",
    "spark.catalog.clearCache()"
   ]
  },
  {
   "cell_type": "markdown",
   "metadata": {},
   "source": [
    "### Read in Data"
   ]
  },
  {
   "cell_type": "code",
   "execution_count": 2,
   "metadata": {},
   "outputs": [
    {
     "name": "stdout",
     "output_type": "stream",
     "text": [
      "root\n",
      " |-- t_dat: string (nullable = true)\n",
      " |-- customer_id: string (nullable = true)\n",
      " |-- article_id: integer (nullable = true)\n",
      " |-- price: double (nullable = true)\n",
      " |-- sales_channel_id: integer (nullable = true)\n",
      "\n"
     ]
    }
   ],
   "source": [
    "transactions_train = spark.read.csv('/project/ds5559/h_and_m/transactions_train.csv',  inferSchema=True, header = True)\n",
    "transactions_train.printSchema()"
   ]
  },
  {
   "cell_type": "markdown",
   "metadata": {},
   "source": [
    "## Clean Data"
   ]
  },
  {
   "cell_type": "markdown",
   "metadata": {},
   "source": [
    "#### Seperate out only 2020 because we get a memory error if we do more"
   ]
  },
  {
   "cell_type": "code",
   "execution_count": 3,
   "metadata": {},
   "outputs": [
    {
     "name": "stdout",
     "output_type": "stream",
     "text": [
      "+--------------------+----------+-----+\n",
      "|         customer_id|article_id|count|\n",
      "+--------------------+----------+-----+\n",
      "|00f5ce6142a289516...| 796210010|    2|\n",
      "|01da48c6794598377...| 621073001|    1|\n",
      "|0871a5a2f27641068...| 784727001|    1|\n",
      "|109defd99fce9bfa0...| 803986002|    1|\n",
      "|1596f86f7ae4b8977...| 654590002|    1|\n",
      "+--------------------+----------+-----+\n",
      "only showing top 5 rows\n",
      "\n"
     ]
    }
   ],
   "source": [
    "from pyspark.sql.functions import from_unixtime, unix_timestamp, year, month, col, date_format\n",
    "\n",
    "# Need to make it a string so we can turn it into unix timestamp\n",
    "transactions_train =  transactions_train.withColumn('t_dat', transactions_train['t_dat'].cast('string'))\n",
    "\n",
    "# Used https://stackoverflow.com/questions/53285032/how-do-i-convert-timestamp-to-unix-format-with-pyspark\n",
    "# and https://spark.apache.org/docs/latest/api/python/reference/api/pyspark.sql.functions.from_unixtime.html\n",
    "transactions_train = transactions_train.withColumn('date', from_unixtime(unix_timestamp('t_dat', 'yyyy-MM-dd')))\n",
    "\n",
    "# This is to get the date then year so that we only use the year 2020\n",
    "transactions_train = transactions_train.withColumn('year', year(col('date')))\n",
    "transactions_train = transactions_train[transactions_train['year'] == 2020]\n",
    "\n",
    "# Get count by transaction so we can use it for ALS modeling\n",
    "transactions_train = transactions_train.groupby('customer_id', 'article_id').count()\n",
    "transactions_train.show(5)"
   ]
  },
  {
   "cell_type": "markdown",
   "metadata": {},
   "source": [
    "#  Model"
   ]
  },
  {
   "cell_type": "markdown",
   "metadata": {},
   "source": [
    "### Need to fit string indexer to all data first"
   ]
  },
  {
   "cell_type": "code",
   "execution_count": 4,
   "metadata": {},
   "outputs": [],
   "source": [
    "from pyspark.ml.feature import StringIndexer\n",
    "cols = ['customer_id', 'article_id']\n",
    "indexer = StringIndexer(inputCols=cols, outputCols=[x + \"_index\" for x in cols]) \n",
    "transactions_train = indexer.fit(transactions_train).transform(transactions_train)\n",
    "(training,test) = transactions_train.randomSplit([0.8, 0.2])"
   ]
  },
  {
   "cell_type": "markdown",
   "metadata": {},
   "source": [
    "### Train Explicit Model \n",
    "[see difference between implicit and explicit here](https://spark.apache.org/docs/latest/ml-collaborative-filtering.html#explicit-vs-implicit-feedback)"
   ]
  },
  {
   "cell_type": "code",
   "execution_count": 5,
   "metadata": {},
   "outputs": [],
   "source": [
    "# Model\n",
    "from pyspark.ml.recommendation import ALS\n",
    "\n",
    "# See https://spark.apache.org/docs/latest/api/python/reference/api/pyspark.mllib.recommendation.ALS.html\n",
    "als=ALS(userCol=\"customer_id_index\", \n",
    "        itemCol=\"article_id_index\", \n",
    "        ratingCol=\"count\",\n",
    "        coldStartStrategy=\"drop\", \n",
    "        nonnegative=True,\n",
    "        implicitPrefs=False\n",
    "       )\n",
    "\n",
    "model = als.fit(training)"
   ]
  },
  {
   "cell_type": "markdown",
   "metadata": {},
   "source": [
    "### Make predictions"
   ]
  },
  {
   "cell_type": "code",
   "execution_count": 6,
   "metadata": {},
   "outputs": [
    {
     "name": "stdout",
     "output_type": "stream",
     "text": [
      "+--------------------+----------+-----+-----------------+----------------+----------+\n",
      "|         customer_id|article_id|count|customer_id_index|article_id_index|prediction|\n",
      "+--------------------+----------+-----+-----------------+----------------+----------+\n",
      "|384dc99df15cab60d...| 817353008|    1|          78120.0|           148.0|  1.029453|\n",
      "|56c982bed14f66475...| 817353008|    1|         391318.0|           148.0|0.97749376|\n",
      "|1896d3091da3fe94c...| 817353008|    2|          56203.0|           148.0| 1.0770671|\n",
      "|1cae596bdbdc76382...| 817353008|    1|           1903.0|           148.0| 1.0562613|\n",
      "|94bb44a2887f2d8ab...| 817353008|    1|         497152.0|           148.0|0.98222816|\n",
      "|5fd4cd2cddce2a1b7...| 817353008|    1|          18838.0|           148.0|0.99268097|\n",
      "|5887a8256c7f0fa71...| 817353008|    1|          31759.0|           148.0|0.98300815|\n",
      "|5c2eb4acf551af4ec...| 817353008|    1|         190874.0|           148.0| 0.9536376|\n",
      "|a08f8751c9cb556f8...| 817353008|    1|         330731.0|           148.0| 1.0867712|\n",
      "|92b26d66df62425f3...| 817353008|    1|          11745.0|           148.0| 1.1672863|\n",
      "+--------------------+----------+-----+-----------------+----------------+----------+\n",
      "only showing top 10 rows\n",
      "\n"
     ]
    }
   ],
   "source": [
    "predictions=model.transform(test)\n",
    "predictions.show(10)"
   ]
  },
  {
   "cell_type": "markdown",
   "metadata": {},
   "source": [
    "### Evaluate using rmse"
   ]
  },
  {
   "cell_type": "code",
   "execution_count": 7,
   "metadata": {},
   "outputs": [
    {
     "name": "stdout",
     "output_type": "stream",
     "text": [
      "0.4862462184706069\n"
     ]
    }
   ],
   "source": [
    "from pyspark.ml.evaluation import RegressionEvaluator\n",
    "\n",
    "evaluator=RegressionEvaluator(metricName=\"rmse\",labelCol=\"count\",predictionCol=\"prediction\")\n",
    "rmse=evaluator.evaluate(predictions)\n",
    "print(rmse)"
   ]
  },
  {
   "cell_type": "markdown",
   "metadata": {},
   "source": [
    "### Make recommendations based off of items"
   ]
  },
  {
   "cell_type": "code",
   "execution_count": 8,
   "metadata": {},
   "outputs": [
    {
     "name": "stdout",
     "output_type": "stream",
     "text": [
      "+----------------+--------------------+\n",
      "|article_id_index|     recommendations|\n",
      "+----------------+--------------------+\n",
      "|             148|[{771241, 38.5180...|\n",
      "|             463|[{840952, 42.6872...|\n",
      "|             471|[{771241, 34.7359...|\n",
      "|             496|[{771241, 36.0331...|\n",
      "|             833|[{771241, 36.0542...|\n",
      "+----------------+--------------------+\n",
      "only showing top 5 rows\n",
      "\n"
     ]
    }
   ],
   "source": [
    "item_recs = model.recommendForAllItems(10)\n",
    "item_recs.show(5)"
   ]
  },
  {
   "cell_type": "markdown",
   "metadata": {},
   "source": [
    "### Make recommendations based off of users"
   ]
  },
  {
   "cell_type": "code",
   "execution_count": 9,
   "metadata": {},
   "outputs": [
    {
     "name": "stdout",
     "output_type": "stream",
     "text": [
      "+-----------------+--------------------+\n",
      "|customer_id_index|     recommendations|\n",
      "+-----------------+--------------------+\n",
      "|              148|[{60727, 2.894691...|\n",
      "|              463|[{34299, 3.846258...|\n",
      "|              471|[{60727, 3.883132...|\n",
      "|              496|[{56050, 3.435591...|\n",
      "|              833|[{60727, 3.338421...|\n",
      "+-----------------+--------------------+\n",
      "only showing top 5 rows\n",
      "\n"
     ]
    }
   ],
   "source": [
    "user_recs = model.recommendForAllUsers(12)\n",
    "user_recs.show(5)"
   ]
  },
  {
   "cell_type": "markdown",
   "metadata": {},
   "source": [
    "### Reformat to Calculate Mean Average Precision "
   ]
  },
  {
   "cell_type": "code",
   "execution_count": 10,
   "metadata": {},
   "outputs": [
    {
     "name": "stdout",
     "output_type": "stream",
     "text": [
      "+--------------------+----------+-----+-----------------+----------------+\n",
      "|         customer_id|article_id|count|customer_id_index|article_id_index|\n",
      "+--------------------+----------+-----+-----------------+----------------+\n",
      "|00f5ce6142a289516...| 796210010|    2|          67509.0|           175.0|\n",
      "|01da48c6794598377...| 621073001|    1|         284500.0|          4769.0|\n",
      "|0871a5a2f27641068...| 784727001|    1|         343407.0|         11369.0|\n",
      "|109defd99fce9bfa0...| 803986002|    1|         671375.0|          1945.0|\n",
      "|1596f86f7ae4b8977...| 654590002|    1|          26536.0|         12448.0|\n",
      "+--------------------+----------+-----+-----------------+----------------+\n",
      "only showing top 5 rows\n",
      "\n"
     ]
    }
   ],
   "source": [
    "transactions_train.show(5)"
   ]
  },
  {
   "cell_type": "code",
   "execution_count": 11,
   "metadata": {},
   "outputs": [],
   "source": [
    "import pyspark.sql.functions as f\n",
    "\n",
    "grouped_trans = transactions_train.groupBy(\"customer_id\").agg(\n",
    "    f.first(\"customer_id_index\").alias(\"customer_id_index\"), \n",
    "    f.concat_ws(\",\", f.collect_list(\"article_id_index\")).alias(\"labels\"))"
   ]
  },
  {
   "cell_type": "code",
   "execution_count": 12,
   "metadata": {},
   "outputs": [],
   "source": [
    "joined = grouped_trans.join(user_recs, grouped_trans.customer_id_index == user_recs.customer_id_index).drop(grouped_trans.customer_id_index)"
   ]
  },
  {
   "cell_type": "code",
   "execution_count": 13,
   "metadata": {},
   "outputs": [
    {
     "name": "stdout",
     "output_type": "stream",
     "text": [
      "root\n",
      " |-- customer_id: string (nullable = true)\n",
      " |-- labels: string (nullable = false)\n",
      " |-- customer_id_index: integer (nullable = false)\n",
      " |-- recommendations: array (nullable = true)\n",
      " |    |-- element: struct (containsNull = true)\n",
      " |    |    |-- article_id_index: integer (nullable = true)\n",
      " |    |    |-- rating: float (nullable = true)\n",
      "\n"
     ]
    }
   ],
   "source": [
    "joined.printSchema()"
   ]
  },
  {
   "cell_type": "code",
   "execution_count": 14,
   "metadata": {},
   "outputs": [
    {
     "name": "stdout",
     "output_type": "stream",
     "text": [
      "+--------------------+--------------------+-----------------+--------------------+\n",
      "|         customer_id|              labels|customer_id_index|     recommendations|\n",
      "+--------------------+--------------------+-----------------+--------------------+\n",
      "|27a246bb259207e7b...|5103.0,153.0,2730...|              299|[{42201, 3.358554...|\n",
      "+--------------------+--------------------+-----------------+--------------------+\n",
      "only showing top 1 row\n",
      "\n"
     ]
    }
   ],
   "source": [
    "joined.show(1)"
   ]
  },
  {
   "cell_type": "code",
   "execution_count": 15,
   "metadata": {},
   "outputs": [],
   "source": [
    "pred_labels = joined.select(\"recommendations.article_id_index\", \"labels\").rdd\n",
    "pred_labels = pred_labels.map(lambda x: (x[0], [int(float(s)) for s in x[1].split(\",\")]))"
   ]
  },
  {
   "cell_type": "code",
   "execution_count": 16,
   "metadata": {},
   "outputs": [],
   "source": [
    "from pyspark.mllib.evaluation import RankingMetrics\n",
    "metrics = RankingMetrics(pred_labels)"
   ]
  },
  {
   "cell_type": "code",
   "execution_count": 17,
   "metadata": {},
   "outputs": [
    {
     "data": {
      "text/plain": [
       "0.00023766120356183244"
      ]
     },
     "execution_count": 17,
     "metadata": {},
     "output_type": "execute_result"
    }
   ],
   "source": [
    "metrics.meanAveragePrecision"
   ]
  }
 ],
 "metadata": {
  "kernelspec": {
   "display_name": "DS 5110 Spark 3.1",
   "language": "python",
   "name": "ds5110_spark3.1"
  },
  "language_info": {
   "codemirror_mode": {
    "name": "ipython",
    "version": 3
   },
   "file_extension": ".py",
   "mimetype": "text/x-python",
   "name": "python",
   "nbconvert_exporter": "python",
   "pygments_lexer": "ipython3",
   "version": "3.7.10"
  }
 },
 "nbformat": 4,
 "nbformat_minor": 4
}
